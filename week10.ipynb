{
 "cells": [
  {
   "cell_type": "code",
   "execution_count": 1,
   "metadata": {},
   "outputs": [
    {
     "name": "stdout",
     "output_type": "stream",
     "text": [
      "숫자들을 입력하세요: 13 42 25 16\n",
      "최대:  42\n"
     ]
    }
   ],
   "source": [
    "#실습2\n",
    "inputString = input(\"숫자들을 입력하세요: \")\n",
    "list = inputString.split()\n",
    "list = [int (i) for i in list]\n",
    "max = list[0]\n",
    "for i in range(len(list)):\n",
    "    if max<list[i] :\n",
    "        max = list[i]\n",
    "print(\"최대: \",max)"
   ]
  },
  {
   "cell_type": "code",
   "execution_count": 4,
   "metadata": {},
   "outputs": [
    {
     "name": "stdout",
     "output_type": "stream",
     "text": [
      "암호화할 코드를 입력하시오abc def\n",
      "efg bcd \n",
      "복호화할 코드를 입력하시오efg bcd\n",
      "abc def \n"
     ]
    }
   ],
   "source": [
    "#실습3\n",
    "##메뉴 없이 암호화, 복호화 연속실행\n",
    "\n",
    "code = input(\"암호화할 코드를 입력하시오\")\n",
    "codeList = code.split()\n",
    "resultList = []\n",
    "resultWord = \"\"\n",
    "result = \"\"\n",
    "for i in range(len(codeList)):\n",
    "    word = codeList[i]\n",
    "    for c in word:\n",
    "        c= chr( ord(c)+1 )\n",
    "        resultWord += c\n",
    "    codeList[i] = resultWord\n",
    "    resultWord = \"\"\n",
    "codeList.reverse()  \n",
    "for i in codeList:\n",
    "    result += i + \" \"\n",
    "print (result)\n",
    "\n",
    "code = input(\"복호화할 코드를 입력하시오\")\n",
    "codeList = code.split()\n",
    "resultList = []\n",
    "resultWord = \"\"\n",
    "result = \"\"\n",
    "for i in range(len(codeList)):\n",
    "    word = codeList[i]\n",
    "    for c in word:\n",
    "        c= chr( ord(c)-1 )\n",
    "        resultWord += c\n",
    "    codeList[i] = resultWord\n",
    "    resultWord = \"\"\n",
    "codeList.reverse()  \n",
    "for i in codeList:\n",
    "    result += i + \" \"\n",
    "print (result)"
   ]
  },
  {
   "cell_type": "code",
   "execution_count": 9,
   "metadata": {},
   "outputs": [
    {
     "name": "stdout",
     "output_type": "stream",
     "text": [
      "이름과 전화번호를 입력하세요.1번째 입력 (동명이인 금지, 동일한 전화번호 금지):  A 001\n",
      "이름과 전화번호를 입력하세요.2번째 입력 (동명이인 금지, 동일한 전화번호 금지):  B 002\n",
      "이름과 전화번호를 입력하세요.3번째 입력 (동명이인 금지, 동일한 전화번호 금지):  C 003\n",
      "이름과 전화번호를 입력하세요.4번째 입력 (동명이인 금지, 동일한 전화번호 금지):  D 004\n",
      "이름과 전화번호를 입력하세요.5번째 입력 (동명이인 금지, 동일한 전화번호 금지):  E 005\n",
      "이름과 전화번호를 입력하세요.6번째 입력 (동명이인 금지, 동일한 전화번호 금지):  F 006\n",
      "이름과 전화번호를 입력하세요.7번째 입력 (동명이인 금지, 동일한 전화번호 금지):  G 007\n",
      "이름과 전화번호를 입력하세요.8번째 입력 (동명이인 금지, 동일한 전화번호 금지):  H 008\n",
      "이름과 전화번호를 입력하세요.9번째 입력 (동명이인 금지, 동일한 전화번호 금지):  I 009\n",
      "이름과 전화번호를 입력하세요.10번째 입력 (동명이인 금지, 동일한 전화번호 금지):  J 010\n",
      "메뉴를 선택하세요 (1) 이름으로 검색   (2) 전화번호로 검색  (3) 종료   1\n",
      "이름: H\n",
      "008\n",
      "메뉴를 선택하세요 (1) 이름으로 검색   (2) 전화번호로 검색  (3) 종료   1\n",
      "이름: D\n",
      "004\n",
      "메뉴를 선택하세요 (1) 이름으로 검색   (2) 전화번호로 검색  (3) 종료   2\n",
      "전화번호: 006\n",
      "F\n",
      "메뉴를 선택하세요 (1) 이름으로 검색   (2) 전화번호로 검색  (3) 종료   2\n",
      "전화번호: 010\n",
      "J\n",
      "메뉴를 선택하세요 (1) 이름으로 검색   (2) 전화번호로 검색  (3) 종료   3\n"
     ]
    }
   ],
   "source": [
    "#실습4\n",
    "## 딕셔너리를 사용을 위해 동명이인은 배제하겠습니다.\n",
    "\n",
    "dic = {}\n",
    "for i in range(10):\n",
    "    a = input(\"이름과 전화번호를 입력하세요.\"+str(i+1)+\"번째 입력 (동명이인 금지, 동일한 전화번호 금지):  \")\n",
    "    infoList = a.split()\n",
    "    name = infoList[0]\n",
    "    num = infoList[1]\n",
    "    dic[name] = num\n",
    "    \n",
    "reverseDic = {v:k for k,v in dic.items()}\n",
    "\n",
    "while(1):\n",
    "    menu = input(\"메뉴를 선택하세요 (1) 이름으로 검색   (2) 전화번호로 검색  (3) 종료   \")\n",
    "    if(menu == '1'):\n",
    "        name = input(\"이름: \")\n",
    "        print(dic.get(name))\n",
    "    elif(menu == '2'):\n",
    "        num = input(\"전화번호: \")\n",
    "        print(reverseDic.get(num))\n",
    "    elif(menu == '3'):\n",
    "        break\n",
    "    else:\n",
    "        print(\"잘못된입력입니다.\")"
   ]
  },
  {
   "cell_type": "code",
   "execution_count": null,
   "metadata": {},
   "outputs": [],
   "source": []
  }
 ],
 "metadata": {
  "kernelspec": {
   "display_name": "Python 3",
   "language": "python",
   "name": "python3"
  },
  "language_info": {
   "codemirror_mode": {
    "name": "ipython",
    "version": 3
   },
   "file_extension": ".py",
   "mimetype": "text/x-python",
   "name": "python",
   "nbconvert_exporter": "python",
   "pygments_lexer": "ipython3",
   "version": "3.7.6"
  }
 },
 "nbformat": 4,
 "nbformat_minor": 4
}
