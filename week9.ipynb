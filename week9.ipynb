{
 "cells": [
  {
   "cell_type": "code",
   "execution_count": 11,
   "id": "63077064",
   "metadata": {},
   "outputs": [
    {
     "name": "stdout",
     "output_type": "stream",
     "text": [
      " x 값을 입력하시오 : 22.873\n",
      "1686.8873870000004\n"
     ]
    }
   ],
   "source": [
    "x = float(input (\" x 값을 입력하시오 : \"))\n",
    "y = 3 * x **2 + 5*x + 3\n",
    "print(y)\n"
   ]
  },
  {
   "cell_type": "code",
   "execution_count": 15,
   "id": "3699b5d8",
   "metadata": {},
   "outputs": [
    {
     "name": "stdout",
     "output_type": "stream",
     "text": [
      "반지름을 입력하시오 : 100\n",
      "원주는  628.0\n",
      "넓이는  31400.0\n"
     ]
    }
   ],
   "source": [
    "r = float(input(\"반지름을 입력하시오 : \"))\n",
    "pi = 3.14\n",
    "ci = 2 * pi * r\n",
    "ae = pi * r ** 2\n",
    "print(\"원주는 \", ci)\n",
    "print(\"넓이는 \", ae)"
   ]
  }
 ],
 "metadata": {
  "kernelspec": {
   "display_name": "Python 3",
   "language": "python",
   "name": "python3"
  },
  "language_info": {
   "codemirror_mode": {
    "name": "ipython",
    "version": 3
   },
   "file_extension": ".py",
   "mimetype": "text/x-python",
   "name": "python",
   "nbconvert_exporter": "python",
   "pygments_lexer": "ipython3",
   "version": "3.6.4"
  }
 },
 "nbformat": 4,
 "nbformat_minor": 5
}
