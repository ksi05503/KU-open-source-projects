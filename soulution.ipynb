{
 "cells": [
  {
   "cell_type": "code",
   "execution_count": 102,
   "id": "8e77dc1f",
   "metadata": {},
   "outputs": [
    {
     "ename": "IndentationError",
     "evalue": "expected an indented block (<ipython-input-102-74f60828f32e>, line 4)",
     "output_type": "error",
     "traceback": [
      "\u001b[1;36m  File \u001b[1;32m\"<ipython-input-102-74f60828f32e>\"\u001b[1;36m, line \u001b[1;32m4\u001b[0m\n\u001b[1;33m    a = Point(1,2)\u001b[0m\n\u001b[1;37m    ^\u001b[0m\n\u001b[1;31mIndentationError\u001b[0m\u001b[1;31m:\u001b[0m expected an indented block\n"
     ]
    }
   ],
   "source": [
    "class Point:\n",
    "    \n",
    "    \n",
    "a = Point(1,2)\n",
    "a.show()\n",
    "\n",
    "b= Point(3,4)\n",
    "b.show\n",
    "\n",
    "a= a+b\n",
    "a.show\n",
    "    "
   ]
  },
  {
   "cell_type": "code",
   "execution_count": null,
   "id": "535da26b",
   "metadata": {},
   "outputs": [],
   "source": [
    "#시험을 보는도중에 dd로 다 지워버렸는데 돌려놓지를 못했습니다. 죄송합니다."
   ]
  }
 ],
 "metadata": {
  "kernelspec": {
   "display_name": "Python 3",
   "language": "python",
   "name": "python3"
  },
  "language_info": {
   "codemirror_mode": {
    "name": "ipython",
    "version": 3
   },
   "file_extension": ".py",
   "mimetype": "text/x-python",
   "name": "python",
   "nbconvert_exporter": "python",
   "pygments_lexer": "ipython3",
   "version": "3.8.8"
  }
 },
 "nbformat": 4,
 "nbformat_minor": 5
}
